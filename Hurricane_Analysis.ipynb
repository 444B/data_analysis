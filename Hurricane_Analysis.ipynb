{
  "cells": [
    {
      "cell_type": "markdown",
      "id": "58875e7a",
      "metadata": {
        "id": "58875e7a"
      },
      "source": [
        "# Hurricane Analysis"
      ]
    },
    {
      "cell_type": "markdown",
      "id": "9a2d9627",
      "metadata": {
        "id": "9a2d9627"
      },
      "source": [
        "#### Overview"
      ]
    },
    {
      "cell_type": "markdown",
      "id": "633e5dde",
      "metadata": {
        "id": "633e5dde"
      },
      "source": [
        "This project is slightly different than others you have encountered thus far. Instead of a step-by-step tutorial, this project contains a series of open-ended requirements which describe the project you'll be building. There are many possible ways to correctly fulfill all of these requirements, and you should expect to use the internet, Codecademy, and other resources when you encounter a problem that you cannot easily solve."
      ]
    },
    {
      "cell_type": "markdown",
      "id": "52f01f07",
      "metadata": {
        "id": "52f01f07"
      },
      "source": [
        "#### Project Goals"
      ]
    },
    {
      "cell_type": "markdown",
      "id": "d9d06c43",
      "metadata": {
        "id": "d9d06c43"
      },
      "source": [
        "You will work to write several functions that organize and manipulate data about Category 5 Hurricanes, the strongest hurricanes as rated by their wind speed. Each one of these functions will use a number of parameters, conditionals, lists, dictionaries, string manipulation, and return statements."
      ]
    },
    {
      "cell_type": "markdown",
      "id": "7fbb9fb5",
      "metadata": {
        "id": "7fbb9fb5"
      },
      "source": [
        "#### Prerequisites"
      ]
    },
    {
      "cell_type": "markdown",
      "id": "4732a1e8",
      "metadata": {
        "id": "4732a1e8"
      },
      "source": [
        "In order to complete this project, you should have completed the Loops and Dictionaries sections of the [Learn Python 3 Course](https://www.codecademy.com/learn/learn-python-3). This content is also covered in the [Data Scientist Career Path](https://www.codecademy.com/learn/paths/data-science/)."
      ]
    },
    {
      "cell_type": "markdown",
      "id": "1e924903",
      "metadata": {
        "id": "1e924903"
      },
      "source": [
        "## Project Requirements"
      ]
    },
    {
      "cell_type": "markdown",
      "id": "35d6f74d",
      "metadata": {
        "id": "35d6f74d"
      },
      "source": [
        "1. Hurricanes, also known as cyclones or typhoons, are one of the most powerful forces of nature on Earth. Due to climate change caused by human activity, the number and intensity of hurricanes has risen, calling for better preparation by the many communities that are devastated by them. As a concerned environmentalist, you want to look at data about the most powerful hurricanes that have occured. \n",
        "\n",
        "   Begin by looking at the `damages` list. The list contains strings representing the total cost in USD(`$`) caused by `34` category 5 hurricanes (wind speeds $\\ge$ 157 mph (252 km/h)) in the Atlantic region. For some of the hurricanes, damage data was not recorded (`\"Damages not recorded\"`), while the rest are written in the format `\"Prefix-B/M\"`, where `B` stands for billions (`1000000000`) and `M` stands for millions (`1000000`).\n",
        "   \n",
        "   Write a function that returns a new list of updated damages where the recorded data is converted to float values and the missing data is retained as `\"Damages not recorded\"`.\n",
        "   \n",
        "   Test your function with the data stored in `damages`."
      ]
    },
    {
      "cell_type": "code",
      "execution_count": 2,
      "id": "d8d3c50b",
      "metadata": {
        "id": "d8d3c50b",
        "executionInfo": {
          "status": "ok",
          "timestamp": 1671266023562,
          "user_tz": -120,
          "elapsed": 64,
          "user": {
            "displayName": "Dylan Kaler",
            "userId": "03952642448061069318"
          }
        },
        "outputId": "b0b0d42b-9066-4a87-c772-a2840fcba202"
      },
      "outputs": [
        {
          "output_type": "stream",
          "name": "stdout",
          "text": [
            "['Damages not recorded', 100000000.0, 'Damages not recorded', 40000000.0, 27900000.0, 5000000.0, 'Damages not recorded', 306000000.0, 2000000.0, 65800000.0, 326000000.0, 60300000.0, 208000000.0, 1420000000.0, 25400000.0, 'Damages not recorded', 1540000000.0, 1240000000.0, 7100000000.0, 10000000000.0, 26500000000.0, 6200000000.0, 5370000000.0, 23300000000.0, 1010000000.0, 125000000000.0, 12000000000.0, 29400000000.0, 1760000000.0, 720000000.0, 15100000000.0, 64800000000.0, 91600000000.0, 25100000000.0]\n"
          ]
        }
      ],
      "source": [
        "# damages (USD($)) of hurricanes\n",
        "damages = ['Damages not recorded', '100M', 'Damages not recorded', '40M',\n",
        "          '27.9M', '5M', 'Damages not recorded', '306M', '2M', '65.8M',\n",
        "          '326M', '60.3M', '208M', '1.42B', '25.4M', 'Damages not recorded',\n",
        "          '1.54B', '1.24B', '7.1B', '10B', '26.5B', '6.2B', '5.37B', '23.3B',\n",
        "          '1.01B', '125B', '12B', '29.4B', '1.76B', '720M', '15.1B', '64.8B',\n",
        "          '91.6B', '25.1B']\n",
        "\n",
        "# 1\n",
        "# Update Recorded Damages\n",
        "conversion = {\"M\": 1000000,\n",
        "             \"B\": 1000000000}\n",
        "\n",
        "# test function by updating damages\n",
        "formatted_damages = []\n",
        "\n",
        "def converter(record):\n",
        "  if record == 'Damages not recorded':\n",
        "    formatted_damages.append(record)\n",
        "  elif record[-1] == \"M\":\n",
        "    formatted_damages.append(float(record[:-1]) * conversion[\"M\"])\n",
        "  elif record[-1] == \"B\":\n",
        "    formatted_damages.append(float(record[:-1]) * conversion[\"B\"])\n",
        "  \n",
        "\n",
        "for record in damages:\n",
        "  converter(record)\n",
        "\n",
        "print(formatted_damages)"
      ]
    },
    {
      "cell_type": "markdown",
      "id": "36ac47b6",
      "metadata": {
        "id": "36ac47b6"
      },
      "source": [
        "2. Additional data collected on the `34` strongest Atlantic hurricanes are provided in a series of lists. The data includes:\n",
        "   - `names`: names of the hurricanes\n",
        "   - `months`: months in which the hurricanes occurred\n",
        "   - `years`: years in which the hurricanes occurred\n",
        "   - `max_sustained_winds`: maximum sustained winds (miles per hour) of the hurricanes\n",
        "   - `areas_affected`: list of different areas affected by each of the hurricanes\n",
        "   - `deaths`: total number of deaths caused by each of the hurricanes\n",
        "   \n",
        "   The data is organized such that the data at each index, from `0` to `33`, corresponds to the same hurricane.\n",
        "   \n",
        "   For example, `names[0]` yields the \"Cuba I\" hurricane, which occurred in `months[0]` (October) `years[0]` (1924).\n",
        "   \n",
        "   Write a function that constructs a dictionary made out of the lists, where the keys of the dictionary are the names of the hurricanes, and the values are dictionaries themselves containing a key for each piece of data (`Name`, `Month`, `Year`, `Max Sustained Wind`, `Areas Affected`, `Damage`, `Death`) about the hurricane.\n",
        "   \n",
        "   Thus the key `\"Cuba I\"` would have the value: `{'Name': 'Cuba I', 'Month': 'October', 'Year': 1924, 'Max Sustained Wind': 165, 'Areas Affected': ['Central America', 'Mexico', 'Cuba', 'Florida', 'The Bahamas'], 'Damage': 'Damages not recorded', 'Deaths': 90}`.\n",
        "   \n",
        "   Test your function on the lists of data provided."
      ]
    },
    {
      "cell_type": "code",
      "execution_count": 3,
      "id": "641aa113",
      "metadata": {
        "id": "641aa113",
        "executionInfo": {
          "status": "ok",
          "timestamp": 1671266027706,
          "user_tz": -120,
          "elapsed": 114,
          "user": {
            "displayName": "Dylan Kaler",
            "userId": "03952642448061069318"
          }
        },
        "outputId": "0651537e-cb7e-468f-e482-67b67c619cd3"
      },
      "outputs": [
        {
          "output_type": "stream",
          "name": "stdout",
          "text": [
            "{'Name': 'Bahamas', 'Months': 'September', 'Years': 1932, 'Max sustained winds': 160, 'Areas Affected': ['The Bahamas', 'Northeastern United States'], 'Damages': 'Damages not recorded', 'Deaths': 16}\n"
          ]
        }
      ],
      "source": [
        "# names of hurricanes\n",
        "names = ['Cuba I', 'San Felipe II Okeechobee', 'Bahamas', 'Cuba II', 'CubaBrownsville', 'Tampico', 'Labor Day', 'New England', 'Carol', 'Janet', 'Carla', 'Hattie', 'Beulah', 'Camille', 'Edith', 'Anita', 'David', 'Allen', 'Gilbert', 'Hugo', 'Andrew', 'Mitch', 'Isabel', 'Ivan', 'Emily', 'Katrina', 'Rita', 'Wilma', 'Dean', 'Felix', 'Matthew', 'Irma', 'Maria', 'Michael']\n",
        "\n",
        "# months of hurricanes\n",
        "months = ['October', 'September', 'September', 'November', 'August', 'September', 'September', 'September', 'September', 'September', 'September', 'October', 'September', 'August', 'September', 'September', 'August', 'August', 'September', 'September', 'August', 'October', 'September', 'September', 'July', 'August', 'September', 'October', 'August', 'September', 'October', 'September', 'September', 'October']\n",
        "\n",
        "# years of hurricanes\n",
        "years = [1924, 1928, 1932, 1932, 1933, 1933, 1935, 1938, 1953, 1955, 1961, 1961, 1967, 1969, 1971, 1977, 1979, 1980, 1988, 1989, 1992, 1998, 2003, 2004, 2005, 2005, 2005, 2005, 2007, 2007, 2016, 2017, 2017, 2018]\n",
        "\n",
        "# maximum sustained winds (mph) of hurricanes\n",
        "max_sustained_winds = [165, 160, 160, 175, 160, 160, 185, 160, 160, 175, 175, 160, 160, 175, 160, 175, 175, 190, 185, 160, 175, 180, 165, 165, 160, 175, 180, 185, 175, 175, 165, 180, 175, 160]\n",
        "\n",
        "# areas affected by each hurricane\n",
        "areas_affected = [['Central America', 'Mexico', 'Cuba', 'Florida', 'The Bahamas'], ['Lesser Antilles', 'The Bahamas', 'United States East Coast', 'Atlantic Canada'], ['The Bahamas', 'Northeastern United States'], ['Lesser Antilles', 'Jamaica', 'Cayman Islands', 'Cuba', 'The Bahamas', 'Bermuda'], ['The Bahamas', 'Cuba', 'Florida', 'Texas', 'Tamaulipas'], ['Jamaica', 'Yucatn Peninsula'], ['The Bahamas', 'Florida', 'Georgia', 'The Carolinas', 'Virginia'], ['Southeastern United States', 'Northeastern United States', 'Southwestern Quebec'], ['Bermuda', 'New England', 'Atlantic Canada'], ['Lesser Antilles', 'Central America'], ['Texas', 'Louisiana', 'Midwestern United States'], ['Central America'], ['The Caribbean', 'Mexico', 'Texas'], ['Cuba', 'United States Gulf Coast'], ['The Caribbean', 'Central America', 'Mexico', 'United States Gulf Coast'], ['Mexico'], ['The Caribbean', 'United States East coast'], ['The Caribbean', 'Yucatn Peninsula', 'Mexico', 'South Texas'], ['Jamaica', 'Venezuela', 'Central America', 'Hispaniola', 'Mexico'], ['The Caribbean', 'United States East Coast'], ['The Bahamas', 'Florida', 'United States Gulf Coast'], ['Central America', 'Yucatn Peninsula', 'South Florida'], ['Greater Antilles', 'Bahamas', 'Eastern United States', 'Ontario'], ['The Caribbean', 'Venezuela', 'United States Gulf Coast'], ['Windward Islands', 'Jamaica', 'Mexico', 'Texas'], ['Bahamas', 'United States Gulf Coast'], ['Cuba', 'United States Gulf Coast'], ['Greater Antilles', 'Central America', 'Florida'], ['The Caribbean', 'Central America'], ['Nicaragua', 'Honduras'], ['Antilles', 'Venezuela', 'Colombia', 'United States East Coast', 'Atlantic Canada'], ['Cape Verde', 'The Caribbean', 'British Virgin Islands', 'U.S. Virgin Islands', 'Cuba', 'Florida'], ['Lesser Antilles', 'Virgin Islands', 'Puerto Rico', 'Dominican Republic', 'Turks and Caicos Islands'], ['Central America', 'United States Gulf Coast (especially Florida Panhandle)']]\n",
        "\n",
        "# damages (USD($)) of hurricanes\n",
        "damages = ['Damages not recorded', '100M', 'Damages not recorded', '40M', '27.9M', '5M', 'Damages not recorded', '306M', '2M', '65.8M', '326M', '60.3M', '208M', '1.42B', '25.4M', 'Damages not recorded', '1.54B', '1.24B', '7.1B', '10B', '26.5B', '6.2B', '5.37B', '23.3B', '1.01B', '125B', '12B', '29.4B', '1.76B', '720M', '15.1B', '64.8B', '91.6B', '25.1B']\n",
        "\n",
        "# deaths for each hurricane\n",
        "deaths = [90,4000,16,3103,179,184,408,682,5,1023,43,319,688,259,37,11,2068,269,318,107,65,19325,51,124,17,1836,125,87,45,133,603,138,3057,74]\n",
        "\n",
        "# 2\n",
        "# Create a Table\n",
        "hurricanes = {}\n",
        "# Create and view the hurricanes dictionary\n",
        "\n",
        "for name in names:\n",
        "  i = names.index(name)\n",
        "  hurricanes[name] = {'Name':names[i], \"Months\":months[i], 'Years': years[i], 'Max sustained winds': max_sustained_winds[i], 'Areas Affected': areas_affected[i], 'Damages': formatted_damages[i], 'Deaths': deaths[i]} \n",
        "  \n",
        "print(hurricanes['Bahamas'])\n"
      ]
    },
    {
      "cell_type": "markdown",
      "id": "6d0a1933",
      "metadata": {
        "id": "6d0a1933"
      },
      "source": [
        "3. In addition to organizing the hurricanes in a dictionary with names as the key, you want to be able to organize the hurricanes by year.\n",
        "\n",
        "   Write a function that converts the current dictionary of hurricanes to a new dictionary, where the keys are years and the values are lists containing a dictionary for each hurricane that occurred in that year.\n",
        "   \n",
        "   For example, the key `1932` would yield the value: `[{'Name': 'Bahamas', 'Month': 'September', 'Year': 1932, 'Max Sustained Wind': 160, 'Areas Affected': ['The Bahamas', 'Northeastern United States'], 'Damage': 'Damage not recorded', 'Deaths': 16}, {'Name': 'Cuba II', 'Month': 'November', 'Year': 1932, 'Max Sustained Wind': 175, 'Areas Affected': ['Lesser Antilles', 'Jamaica', 'Cayman Islands', 'Cuba', 'The Bahamas', 'Bermuda'], 'Damage': 40000000.0, 'Deaths': 3103}]`.\n",
        "   \n",
        "   Test your function on your hurricane dictionary."
      ]
    },
    {
      "cell_type": "code",
      "execution_count": 4,
      "id": "1ef2edea",
      "metadata": {
        "id": "1ef2edea",
        "executionInfo": {
          "status": "ok",
          "timestamp": 1671266032794,
          "user_tz": -120,
          "elapsed": 123,
          "user": {
            "displayName": "Dylan Kaler",
            "userId": "03952642448061069318"
          }
        },
        "outputId": "e0184630-e39b-4120-f908-3b6b6de0960f"
      },
      "outputs": [
        {
          "output_type": "stream",
          "name": "stdout",
          "text": [
            "{1924: [{'Name': 'Cuba I', 'Months': 'October', 'Years': 1924, 'Max sustained winds': 165, 'Areas Affected': ['Central America', 'Mexico', 'Cuba', 'Florida', 'The Bahamas'], 'Damages': 'Damages not recorded', 'Deaths': 90}], 1928: [{'Name': 'San Felipe II Okeechobee', 'Months': 'September', 'Years': 1928, 'Max sustained winds': 160, 'Areas Affected': ['Lesser Antilles', 'The Bahamas', 'United States East Coast', 'Atlantic Canada'], 'Damages': 100000000.0, 'Deaths': 4000}], 1932: [{'Name': 'Bahamas', 'Months': 'September', 'Years': 1932, 'Max sustained winds': 160, 'Areas Affected': ['The Bahamas', 'Northeastern United States'], 'Damages': 'Damages not recorded', 'Deaths': 16}, {'Name': 'Bahamas', 'Months': 'September', 'Years': 1932, 'Max sustained winds': 160, 'Areas Affected': ['The Bahamas', 'Northeastern United States'], 'Damages': 'Damages not recorded', 'Deaths': 16}], 1933: [{'Name': 'CubaBrownsville', 'Months': 'August', 'Years': 1933, 'Max sustained winds': 160, 'Areas Affected': ['The Bahamas', 'Cuba', 'Florida', 'Texas', 'Tamaulipas'], 'Damages': 27900000.0, 'Deaths': 179}, {'Name': 'CubaBrownsville', 'Months': 'August', 'Years': 1933, 'Max sustained winds': 160, 'Areas Affected': ['The Bahamas', 'Cuba', 'Florida', 'Texas', 'Tamaulipas'], 'Damages': 27900000.0, 'Deaths': 179}], 1935: [{'Name': 'Labor Day', 'Months': 'September', 'Years': 1935, 'Max sustained winds': 185, 'Areas Affected': ['The Bahamas', 'Florida', 'Georgia', 'The Carolinas', 'Virginia'], 'Damages': 'Damages not recorded', 'Deaths': 408}], 1938: [{'Name': 'New England', 'Months': 'September', 'Years': 1938, 'Max sustained winds': 160, 'Areas Affected': ['Southeastern United States', 'Northeastern United States', 'Southwestern Quebec'], 'Damages': 306000000.0, 'Deaths': 682}], 1953: [{'Name': 'Carol', 'Months': 'September', 'Years': 1953, 'Max sustained winds': 160, 'Areas Affected': ['Bermuda', 'New England', 'Atlantic Canada'], 'Damages': 2000000.0, 'Deaths': 5}], 1955: [{'Name': 'Janet', 'Months': 'September', 'Years': 1955, 'Max sustained winds': 175, 'Areas Affected': ['Lesser Antilles', 'Central America'], 'Damages': 65800000.0, 'Deaths': 1023}], 1961: [{'Name': 'Carla', 'Months': 'September', 'Years': 1961, 'Max sustained winds': 175, 'Areas Affected': ['Texas', 'Louisiana', 'Midwestern United States'], 'Damages': 326000000.0, 'Deaths': 43}, {'Name': 'Carla', 'Months': 'September', 'Years': 1961, 'Max sustained winds': 175, 'Areas Affected': ['Texas', 'Louisiana', 'Midwestern United States'], 'Damages': 326000000.0, 'Deaths': 43}], 1967: [{'Name': 'Beulah', 'Months': 'September', 'Years': 1967, 'Max sustained winds': 160, 'Areas Affected': ['The Caribbean', 'Mexico', 'Texas'], 'Damages': 208000000.0, 'Deaths': 688}], 1969: [{'Name': 'Camille', 'Months': 'August', 'Years': 1969, 'Max sustained winds': 175, 'Areas Affected': ['Cuba', 'United States Gulf Coast'], 'Damages': 1420000000.0, 'Deaths': 259}], 1971: [{'Name': 'Edith', 'Months': 'September', 'Years': 1971, 'Max sustained winds': 160, 'Areas Affected': ['The Caribbean', 'Central America', 'Mexico', 'United States Gulf Coast'], 'Damages': 25400000.0, 'Deaths': 37}], 1977: [{'Name': 'Anita', 'Months': 'September', 'Years': 1977, 'Max sustained winds': 175, 'Areas Affected': ['Mexico'], 'Damages': 'Damages not recorded', 'Deaths': 11}], 1979: [{'Name': 'David', 'Months': 'August', 'Years': 1979, 'Max sustained winds': 175, 'Areas Affected': ['The Caribbean', 'United States East coast'], 'Damages': 1540000000.0, 'Deaths': 2068}], 1980: [{'Name': 'Allen', 'Months': 'August', 'Years': 1980, 'Max sustained winds': 190, 'Areas Affected': ['The Caribbean', 'Yucatn Peninsula', 'Mexico', 'South Texas'], 'Damages': 1240000000.0, 'Deaths': 269}], 1988: [{'Name': 'Gilbert', 'Months': 'September', 'Years': 1988, 'Max sustained winds': 185, 'Areas Affected': ['Jamaica', 'Venezuela', 'Central America', 'Hispaniola', 'Mexico'], 'Damages': 7100000000.0, 'Deaths': 318}], 1989: [{'Name': 'Hugo', 'Months': 'September', 'Years': 1989, 'Max sustained winds': 160, 'Areas Affected': ['The Caribbean', 'United States East Coast'], 'Damages': 10000000000.0, 'Deaths': 107}], 1992: [{'Name': 'Andrew', 'Months': 'August', 'Years': 1992, 'Max sustained winds': 175, 'Areas Affected': ['The Bahamas', 'Florida', 'United States Gulf Coast'], 'Damages': 26500000000.0, 'Deaths': 65}], 1998: [{'Name': 'Mitch', 'Months': 'October', 'Years': 1998, 'Max sustained winds': 180, 'Areas Affected': ['Central America', 'Yucatn Peninsula', 'South Florida'], 'Damages': 6200000000.0, 'Deaths': 19325}], 2003: [{'Name': 'Isabel', 'Months': 'September', 'Years': 2003, 'Max sustained winds': 165, 'Areas Affected': ['Greater Antilles', 'Bahamas', 'Eastern United States', 'Ontario'], 'Damages': 5370000000.0, 'Deaths': 51}], 2004: [{'Name': 'Ivan', 'Months': 'September', 'Years': 2004, 'Max sustained winds': 165, 'Areas Affected': ['The Caribbean', 'Venezuela', 'United States Gulf Coast'], 'Damages': 23300000000.0, 'Deaths': 124}], 2005: [{'Name': 'Emily', 'Months': 'July', 'Years': 2005, 'Max sustained winds': 160, 'Areas Affected': ['Windward Islands', 'Jamaica', 'Mexico', 'Texas'], 'Damages': 1010000000.0, 'Deaths': 17}, {'Name': 'Emily', 'Months': 'July', 'Years': 2005, 'Max sustained winds': 160, 'Areas Affected': ['Windward Islands', 'Jamaica', 'Mexico', 'Texas'], 'Damages': 1010000000.0, 'Deaths': 17}, {'Name': 'Emily', 'Months': 'July', 'Years': 2005, 'Max sustained winds': 160, 'Areas Affected': ['Windward Islands', 'Jamaica', 'Mexico', 'Texas'], 'Damages': 1010000000.0, 'Deaths': 17}, {'Name': 'Emily', 'Months': 'July', 'Years': 2005, 'Max sustained winds': 160, 'Areas Affected': ['Windward Islands', 'Jamaica', 'Mexico', 'Texas'], 'Damages': 1010000000.0, 'Deaths': 17}], 2007: [{'Name': 'Dean', 'Months': 'August', 'Years': 2007, 'Max sustained winds': 175, 'Areas Affected': ['The Caribbean', 'Central America'], 'Damages': 1760000000.0, 'Deaths': 45}, {'Name': 'Dean', 'Months': 'August', 'Years': 2007, 'Max sustained winds': 175, 'Areas Affected': ['The Caribbean', 'Central America'], 'Damages': 1760000000.0, 'Deaths': 45}], 2016: [{'Name': 'Matthew', 'Months': 'October', 'Years': 2016, 'Max sustained winds': 165, 'Areas Affected': ['Antilles', 'Venezuela', 'Colombia', 'United States East Coast', 'Atlantic Canada'], 'Damages': 15100000000.0, 'Deaths': 603}], 2017: [{'Name': 'Irma', 'Months': 'September', 'Years': 2017, 'Max sustained winds': 180, 'Areas Affected': ['Cape Verde', 'The Caribbean', 'British Virgin Islands', 'U.S. Virgin Islands', 'Cuba', 'Florida'], 'Damages': 64800000000.0, 'Deaths': 138}, {'Name': 'Irma', 'Months': 'September', 'Years': 2017, 'Max sustained winds': 180, 'Areas Affected': ['Cape Verde', 'The Caribbean', 'British Virgin Islands', 'U.S. Virgin Islands', 'Cuba', 'Florida'], 'Damages': 64800000000.0, 'Deaths': 138}], 2018: [{'Name': 'Michael', 'Months': 'October', 'Years': 2018, 'Max sustained winds': 160, 'Areas Affected': ['Central America', 'United States Gulf Coast (especially Florida Panhandle)'], 'Damages': 25100000000.0, 'Deaths': 74}]}\n"
          ]
        }
      ],
      "source": [
        "# 3\n",
        "# Organizing by Year\n",
        "# {1932: [hurricane1dict{}, hurricane2dict{}], 1955: [hurricaned3dict{}], 1988: []}\n",
        "\n",
        "def yearconverter(dictionary):\n",
        "  current_year = 0\n",
        "  yearlyhurricanes = {}\n",
        "  for year in years:\n",
        "    i = years.index(year)\n",
        "  \n",
        "    if current_year == year:\n",
        "      yearlyhurricanes[year] += [{'Name':names[i], \"Months\":months[i], 'Years': years[i], 'Max sustained winds': max_sustained_winds[i], 'Areas Affected': areas_affected[i], 'Damages': formatted_damages[i], 'Deaths': deaths[i]}] # This is the part to docus on\n",
        "\n",
        "    elif current_year != year:\n",
        "      current_year = year\n",
        "      yearlyhurricanes[year] = [{'Name':names[i], \"Months\":months[i], 'Years': years[i], 'Max sustained winds': max_sustained_winds[i], 'Areas Affected': areas_affected[i], 'Damages': formatted_damages[i], 'Deaths': deaths[i]}]\n",
        "\n",
        "  return yearlyhurricanes\n",
        "\n",
        "\n",
        "# create a new dictionary of hurricanes with year and key\n",
        "yearlyhurricanes = yearconverter(hurricanes)\n",
        "\n",
        "print(yearlyhurricanes)\n",
        "\n"
      ]
    },
    {
      "cell_type": "markdown",
      "id": "66973f77",
      "metadata": {
        "id": "66973f77"
      },
      "source": [
        "4. You believe that knowing how often each of the areas of the Atlantic are affected by these strong hurricanes is important for making preparations for future hurricanes.\n",
        "\n",
        "   Write a function that counts how often each area is listed as an affected area of a hurricane. Store and return the results in a dictionary where the keys are the affected areas and the values are counts of how many times the areas were affected.\n",
        "   \n",
        "   Test your function on your hurricane dictionary."
      ]
    },
    {
      "cell_type": "code",
      "execution_count": 5,
      "id": "bff86f77",
      "metadata": {
        "id": "bff86f77",
        "executionInfo": {
          "status": "ok",
          "timestamp": 1671266037924,
          "user_tz": -120,
          "elapsed": 5,
          "user": {
            "displayName": "Dylan Kaler",
            "userId": "03952642448061069318"
          }
        },
        "outputId": "c8618eb3-3246-45c6-88e7-9ae2220ab566"
      },
      "outputs": [
        {
          "output_type": "stream",
          "name": "stdout",
          "text": [
            "{'Central America': 9, 'Mexico': 7, 'Cuba': 6, 'Florida': 6, 'The Bahamas': 7, 'Lesser Antilles': 4, 'United States East Coast': 3, 'Atlantic Canada': 3, 'Northeastern United States': 2, 'Jamaica': 4, 'Cayman Islands': 1, 'Bermuda': 2, 'Texas': 4, 'Tamaulipas': 1, 'Yucatn Peninsula': 3, 'Georgia': 1, 'The Carolinas': 1, 'Virginia': 1, 'Southeastern United States': 1, 'Southwestern Quebec': 1, 'New England': 1, 'Louisiana': 1, 'Midwestern United States': 1, 'The Caribbean': 8, 'United States Gulf Coast': 6, 'United States East coast': 1, 'South Texas': 1, 'Venezuela': 3, 'Hispaniola': 1, 'South Florida': 1, 'Greater Antilles': 2, 'Bahamas': 2, 'Eastern United States': 1, 'Ontario': 1, 'Windward Islands': 1, 'Nicaragua': 1, 'Honduras': 1, 'Antilles': 1, 'Colombia': 1, 'Cape Verde': 1, 'British Virgin Islands': 1, 'U.S. Virgin Islands': 1, 'Virgin Islands': 1, 'Puerto Rico': 1, 'Dominican Republic': 1, 'Turks and Caicos Islands': 1, 'United States Gulf Coast (especially Florida Panhandle)': 1}\n"
          ]
        }
      ],
      "source": [
        "# 4\n",
        "# Counting Damaged Areas\n",
        "def regionconverter(list):\n",
        "  hurricaneregionsdict = {}\n",
        "  for item in list:\n",
        "    for location in item:\n",
        "      if location in hurricaneregionsdict:\n",
        "        hurricaneregionsdict[location] += 1\n",
        "      else:\n",
        "        hurricaneregionsdict[location] = 1\n",
        "\n",
        "  return hurricaneregionsdict\n",
        "\n",
        "# create dictionary of areas to store the number of hurricanes involved in\n",
        "hurricaneregions = regionconverter(areas_affected)\n",
        "\n",
        "print(hurricaneregions)"
      ]
    },
    {
      "cell_type": "markdown",
      "id": "e015eeb3",
      "metadata": {
        "id": "e015eeb3"
      },
      "source": [
        "5. Write a function that finds the area affected by the most hurricanes, and how often it was hit.\n",
        "\n",
        "   Test your function on your affected area dictionary."
      ]
    },
    {
      "cell_type": "code",
      "execution_count": 6,
      "id": "643c73f9",
      "metadata": {
        "id": "643c73f9",
        "executionInfo": {
          "status": "ok",
          "timestamp": 1671266040581,
          "user_tz": -120,
          "elapsed": 4,
          "user": {
            "displayName": "Dylan Kaler",
            "userId": "03952642448061069318"
          }
        },
        "outputId": "c655946f-10ac-4ac7-b9bd-7e06f8b045bd"
      },
      "outputs": [
        {
          "output_type": "stream",
          "name": "stdout",
          "text": [
            "Central America was hit the most, at 9 times\n"
          ]
        }
      ],
      "source": [
        "# 5\n",
        "# Calculating Maximum Hurricane Count\n",
        "\n",
        "def mostfrequent(regions):\n",
        "  winner_key = ''\n",
        "  winner_value = 0\n",
        "  for keys, values in hurricaneregions.items():\n",
        "    if values > winner_value:\n",
        "      winner_value = values\n",
        "      winner_key = keys\n",
        "\n",
        "    return f\"{winner_key} was hit the most, at {winner_value} times\"\n",
        "\n",
        "\n",
        "\n",
        "# find most frequently affected area and the number of hurricanes involved in\n",
        "mostfrequent = mostfrequent(areas_affected)\n",
        "print(mostfrequent)"
      ]
    },
    {
      "cell_type": "markdown",
      "id": "4c120f59",
      "metadata": {
        "id": "4c120f59"
      },
      "source": [
        "6. Write a function that finds the hurricane that caused the greatest number of deaths, and how many deaths it caused.\n",
        "\n",
        "   Test your function on your hurricane dictionary."
      ]
    },
    {
      "cell_type": "code",
      "execution_count": 32,
      "id": "ced02448",
      "metadata": {
        "id": "ced02448",
        "executionInfo": {
          "status": "ok",
          "timestamp": 1671267038258,
          "user_tz": -120,
          "elapsed": 4,
          "user": {
            "displayName": "Dylan Kaler",
            "userId": "03952642448061069318"
          }
        },
        "outputId": "aa96e832-1ac3-48b7-f25b-5aeb94509d6d"
      },
      "outputs": [
        {
          "output_type": "stream",
          "name": "stdout",
          "text": [
            "Mitch was the most deadly, at 19325 deaths\n"
          ]
        }
      ],
      "source": [
        "# 6\n",
        "# Calculating the Deadliest Hurricane\n",
        "def deadlist_hurricane(hurricanes):\n",
        "  deadliest_key = ''\n",
        "  deadliest_value = 0\n",
        "  deaths = 0\n",
        "\n",
        "  for keys, values in hurricanes.items():\n",
        "    deaths = values[\"Deaths\"]\n",
        "\n",
        "    if deadliest_value < deaths:\n",
        "\n",
        "      deadliest_key = keys\n",
        "      deadliest_value = values[\"Deaths\"]\n",
        "      \n",
        "\n",
        "\n",
        "  return f\"{deadliest_key} was the most deadly, at {deadliest_value} deaths\"\n",
        "\n",
        "# find highest mortality hurricane and the number of deaths\n",
        "deadliest = deadlist_hurricane(hurricanes)\n",
        "\n",
        "print(deadliest)"
      ]
    },
    {
      "cell_type": "markdown",
      "id": "9ddd39b0",
      "metadata": {
        "id": "9ddd39b0"
      },
      "source": [
        "7. Just as hurricanes are rated by their windspeed, you want to try rating hurricanes based on other metrics.\n",
        "\n",
        "   Write a function that rates hurricanes on a mortality scale according to the following ratings, where the key is the rating and the value is the upper bound of deaths for that rating.\n",
        "   \n",
        "   ```py\n",
        "   mortality_scale = {0: 0,\n",
        "   1: 100,\n",
        "   2: 500,\n",
        "   3: 1000,\n",
        "   4: 10000}\n",
        "   ```\n",
        "   \n",
        "   For example, a hurricane with a `1` mortality rating would have resulted in greater than `0` but less than or equal to `100` deaths. A hurricane with a `5` mortality would have resulted in greater than `10000` deaths.\n",
        "   \n",
        "   Store the hurricanes in a new dictionary where the keys are the mortaility ratings and the values are lists containing a dictionary for each hurricane that falls into that mortality rating.\n",
        "   \n",
        "   Test your function on your hurricane dictionary."
      ]
    },
    {
      "cell_type": "code",
      "execution_count": 94,
      "id": "9eea4dc7",
      "metadata": {
        "id": "9eea4dc7",
        "executionInfo": {
          "status": "ok",
          "timestamp": 1671269782966,
          "user_tz": -120,
          "elapsed": 63,
          "user": {
            "displayName": "Dylan Kaler",
            "userId": "03952642448061069318"
          }
        },
        "outputId": "32ca813f-90f4-4795-a666-b661dff0d55f"
      },
      "outputs": [
        {
          "output_type": "stream",
          "name": "stdout",
          "text": [
            "Cuba I\n",
            "Bahamas\n",
            "Carol\n",
            "Carla\n",
            "Edith\n",
            "Anita\n",
            "Andrew\n",
            "Isabel\n",
            "Emily\n",
            "Wilma\n",
            "Dean\n",
            "Michael\n",
            "{0: ['Cuba I', 'Bahamas', 'Carol', 'Carla', 'Edith', 'Anita', 'Andrew', 'Isabel', 'Emily', 'Wilma', 'Dean', 'Michael'], 1: ['CubaBrownsville', 'Tampico', 'Labor Day', 'Hattie', 'Camille', 'Allen', 'Gilbert', 'Hugo', 'Ivan', 'Rita', 'Felix', 'Irma'], 2: ['New England', 'Beulah', 'Matthew'], 3: ['San Felipe II Okeechobee', 'Cuba II', 'Janet', 'David', 'Katrina', 'Maria'], 4: ['Mitch']}\n"
          ]
        }
      ],
      "source": [
        "# 7\n",
        "\n",
        "\n",
        "# Rating Hurricanes by Mortality\n",
        "\n",
        "def mortality_scale(hurricanes):\n",
        "  mortality_scale =  {\n",
        "0: [],\n",
        "1: [],\n",
        "2: [],\n",
        "3: [],\n",
        "4: []}\n",
        "  for k, v in hurricanes.items():\n",
        "    if 0 < v[\"Deaths\"] < 100:\n",
        "      print(k)\n",
        "      mortality_scale[0].append(k)\n",
        "\n",
        "    elif 100 < v[\"Deaths\"] < 500:\n",
        "      mortality_scale[1].append(k)\n",
        "\n",
        "    elif 500 < v[\"Deaths\"] < 1000:\n",
        "      mortality_scale[2].append(k)\n",
        "\n",
        "    elif 1000 < v[\"Deaths\"] < 10000:\n",
        "      mortality_scale[3].append(k)\n",
        "\n",
        "    elif v[\"Deaths\"] > 10000:\n",
        "      mortality_scale[4].append(k)\n",
        "\n",
        "\n",
        "  return mortality_scale\n",
        "\n",
        "# categorize hurricanes in new dictionary with mortality severity as key\n",
        "mortality_scale = mortality_scale(hurricanes)\n",
        "\n",
        "print(mortality_scale)"
      ]
    },
    {
      "cell_type": "markdown",
      "id": "199b0e1c",
      "metadata": {
        "id": "199b0e1c"
      },
      "source": [
        "8. Write a function that finds the hurricane that caused the greatest damage, and how costly it was.\n",
        "\n",
        "   Test your function on your hurricane dictionary."
      ]
    },
    {
      "cell_type": "code",
      "execution_count": 92,
      "id": "b3dc79b4",
      "metadata": {
        "id": "b3dc79b4",
        "executionInfo": {
          "status": "ok",
          "timestamp": 1671269605691,
          "user_tz": -120,
          "elapsed": 60,
          "user": {
            "displayName": "Dylan Kaler",
            "userId": "03952642448061069318"
          }
        },
        "outputId": "890d3038-d983-44ac-ac34-39b08696b4e1"
      },
      "outputs": [
        {
          "output_type": "stream",
          "name": "stdout",
          "text": [
            "Katrina was the most expensive, at 125000000000.0 dollars\n"
          ]
        }
      ],
      "source": [
        "# 8\n",
        "# Calculating Hurricane Maximum Damage\n",
        "\n",
        "def costliest_hurricane(hurricanes):\n",
        "  costliest_key = ''\n",
        "  costliest_value = 0\n",
        "  cost = 0\n",
        "\n",
        "  for keys, values in hurricanes.items():\n",
        "    if type(values[\"Damages\"]) == str:\n",
        "      continue\n",
        "\n",
        "    cost = int(values[\"Damages\"])\n",
        "\n",
        "    if costliest_value < cost:\n",
        "\n",
        "      costliest_key = keys\n",
        "      costliest_value = values[\"Damages\"]\n",
        "      \n",
        "\n",
        "\n",
        "  return f\"{costliest_key} was the most expensive, at {costliest_value} dollars\"\n",
        "# find highest damage inducing hurricane and its total cost\n",
        "costliest = costliest_hurricane(hurricanes)\n",
        "\n",
        "print(costliest)\n"
      ]
    },
    {
      "cell_type": "markdown",
      "id": "58d22ddc",
      "metadata": {
        "id": "58d22ddc"
      },
      "source": [
        "9. Lastly, you want to rate hurricanes according to how much damage they cause.\n",
        "\n",
        "   Write a function that rates hurricanes on a damage scale according to the following ratings, where the key is the rating and the value is the upper bound of damage for that rating.\n",
        "   ```py\n",
        "   damage_scale = {0: 0,\n",
        "   1: 100000000,\n",
        "   2: 1000000000,\n",
        "   3: 10000000000,\n",
        "   4: 50000000000}\n",
        "   ```\n",
        "   \n",
        "   For example, a hurricane with a `1` damage rating would have resulted in damages greater than `0` USD but less than or equal to `100000000` USD. A hurricane with a `5` damage rating would have resulted in damages greater than `50000000000` USD (talk about a lot of money).\n",
        "   \n",
        "   Store the hurricanes in a new dictionary where the keys are damage ratings and the values are lists containing a dictionary for each hurricane that falls into that damage rating.\n",
        "   \n",
        "   Test your function on your hurricane dictionary."
      ]
    },
    {
      "cell_type": "code",
      "execution_count": 98,
      "id": "e543f487",
      "metadata": {
        "id": "e543f487",
        "executionInfo": {
          "status": "ok",
          "timestamp": 1671270026211,
          "user_tz": -120,
          "elapsed": 68,
          "user": {
            "displayName": "Dylan Kaler",
            "userId": "03952642448061069318"
          }
        },
        "outputId": "7aee2d91-e317-4f89-ab3f-e10ca0554e3c"
      },
      "outputs": [
        {
          "output_type": "stream",
          "name": "stdout",
          "text": [
            "Cuba II\n",
            "CubaBrownsville\n",
            "Tampico\n",
            "Carol\n",
            "Janet\n",
            "Hattie\n",
            "Edith\n",
            "{0: ['Cuba II', 'CubaBrownsville', 'Tampico', 'Carol', 'Janet', 'Hattie', 'Edith'], 1: ['New England', 'Carla', 'Beulah', 'Felix'], 2: ['Camille', 'David', 'Allen', 'Gilbert', 'Mitch', 'Isabel', 'Emily', 'Dean'], 3: ['Andrew', 'Ivan', 'Rita', 'Wilma', 'Matthew', 'Michael'], 4: ['Katrina', 'Irma', 'Maria']}\n"
          ]
        }
      ],
      "source": [
        "# 9\n",
        "# Rating Hurricanes by Damage\n",
        "def damage_scale(hurricanes):\n",
        "  damage_scale =  {\n",
        "0: [],\n",
        "1: [],\n",
        "2: [],\n",
        "3: [],\n",
        "4: []}\n",
        "  for k, v in hurricanes.items():\n",
        "    if type(v[\"Damages\"]) == str:\n",
        "      continue\n",
        "\n",
        "    if 0 < v[\"Damages\"] < 100000000:\n",
        "      print(k)\n",
        "      damage_scale[0].append(k)\n",
        "\n",
        "    elif 100000000 < v[\"Damages\"] < 1000000000:\n",
        "      damage_scale[1].append(k)\n",
        "\n",
        "    elif 1000000000 < v[\"Damages\"] < 10000000000:\n",
        "      damage_scale[2].append(k)\n",
        "\n",
        "    elif 10000000000 < v[\"Damages\"] < 50000000000:\n",
        "      damage_scale[3].append(k)\n",
        "\n",
        "    elif v[\"Damages\"] > 50000000000:\n",
        "      damage_scale[4].append(k)\n",
        "\n",
        "\n",
        "  return damage_scale\n",
        "\n",
        "# categorize hurricanes in new dictionary with mortality severity as key\n",
        "damage_scale = damage_scale(hurricanes)\n",
        "\n",
        "print(damage_scale)\n",
        "\n",
        "# categorize hurricanes in new dictionary with damage severity as key\n"
      ]
    },
    {
      "cell_type": "markdown",
      "id": "928c5fd2",
      "metadata": {
        "id": "928c5fd2"
      },
      "source": [
        "## Solution"
      ]
    },
    {
      "cell_type": "markdown",
      "id": "252616a3",
      "metadata": {
        "id": "252616a3"
      },
      "source": [
        "Great work! View the **Hurricane Analysis_Solution.ipynb** file or visit [our forums](https://discuss.codecademy.com/t/hurricane-analysis-challenge-project-python/462363) to compare your project to our sample solution code. You can also learn how to host your own solution on GitHub so you can share it with other learners! Your solution might look different than ours, and that's okay! There are multiple ways to solve these projects, and you'll learn more by seeing others' code."
      ]
    },
    {
      "cell_type": "code",
      "execution_count": null,
      "id": "da8f7141",
      "metadata": {
        "id": "da8f7141"
      },
      "outputs": [],
      "source": []
    }
  ],
  "metadata": {
    "kernelspec": {
      "display_name": "Python 3.10.8 64-bit (microsoft store)",
      "language": "python",
      "name": "python3"
    },
    "language_info": {
      "codemirror_mode": {
        "name": "ipython",
        "version": 3
      },
      "file_extension": ".py",
      "mimetype": "text/x-python",
      "name": "python",
      "nbconvert_exporter": "python",
      "pygments_lexer": "ipython3",
      "version": "3.10.8"
    },
    "vscode": {
      "interpreter": {
        "hash": "b784193cf0f9970b27f3c12f21dbff8ed97e3cf923dc23fe210654173bc3fdd0"
      }
    },
    "colab": {
      "provenance": []
    }
  },
  "nbformat": 4,
  "nbformat_minor": 5
}